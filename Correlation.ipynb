{
 "cells": [
  {
   "cell_type": "markdown",
   "metadata": {},
   "source": [
    "# Calculate correlation of resting & reading"
   ]
  },
  {
   "cell_type": "code",
   "execution_count": 37,
   "metadata": {},
   "outputs": [],
   "source": [
    "import pandas as pd\n",
    "import numpy as np\n",
    "from numpy import corrcoef\n",
    "from scipy.signal import butter, lfilter, welch\n",
    "import matplotlib.pyplot as plt"
   ]
  },
  {
   "cell_type": "markdown",
   "metadata": {},
   "source": [
    "## Preparation"
   ]
  },
  {
   "cell_type": "code",
   "execution_count": 2,
   "metadata": {},
   "outputs": [],
   "source": [
    "fs = 250"
   ]
  },
  {
   "cell_type": "code",
   "execution_count": 3,
   "metadata": {},
   "outputs": [],
   "source": [
    "def high_pass(low, high, df, order=4):\n",
    "    \"\"\"\n",
    "    Filter channel data with butterworth filter\n",
    "    \"\"\"\n",
    "    nyq = 0.5 * fs\n",
    "    b, a = butter(order, [low / nyq, high / nyq], btype='band')\n",
    "    # filtered dataframe\n",
    "    fil_df = pd.DataFrame(dtype=\"float64\")\n",
    "    for i, col in enumerate(df):\n",
    "        fil_df[df.columns[i]] = lfilter(b, a, df[col])\n",
    "    \n",
    "    return fil_df"
   ]
  },
  {
   "cell_type": "code",
   "execution_count": 7,
   "metadata": {},
   "outputs": [],
   "source": [
    "# try a file\n",
    "rest_df = pd.read_csv('Data/Resting/R600_RestingState.csv')\n",
    "read_df = pd.read_csv('Data/Reading/R600_ND.csv')\n",
    "\n",
    "# filter\n",
    "high = 40\n",
    "low = 0.5\n",
    "fil_rest = high_pass(low, high, rest_df)\n",
    "fil_read = high_pass(low, high, read_df)\n",
    "\n",
    "# take one channel\n",
    "rest_cz = rest_df.Cz\n",
    "read_cz = read_df.Cz\n",
    "# clip, start at 1000th data point as there seems to be a noise\n",
    "# make sure it contains integer number of epochs\n",
    "start = 750\n",
    "end = min(len(rest_cz), len(read_cz))\n",
    "end = end - (end % fs)\n",
    "read_cz = read_cz[start:end]\n",
    "rest_cz = rest_cz[start:end]\n",
    "assert read_cz.shape == rest_cz.shape"
   ]
  },
  {
   "cell_type": "markdown",
   "metadata": {},
   "source": [
    "## Baseline"
   ]
  },
  {
   "cell_type": "code",
   "execution_count": 40,
   "metadata": {},
   "outputs": [
    {
     "ename": "SyntaxError",
     "evalue": "unexpected EOF while parsing (<ipython-input-40-4522004f0657>, line 19)",
     "output_type": "error",
     "traceback": [
      "\u001b[0;36m  File \u001b[0;32m\"<ipython-input-40-4522004f0657>\"\u001b[0;36m, line \u001b[0;32m19\u001b[0m\n\u001b[0;31m    for epoch in resting_cz:\u001b[0m\n\u001b[0m                            ^\u001b[0m\n\u001b[0;31mSyntaxError\u001b[0m\u001b[0;31m:\u001b[0m unexpected EOF while parsing\n"
     ]
    }
   ],
   "source": [
    "def baseline(resting_cz, fs):\n",
    "    \"\"\"\n",
    "    Using resting data to calculate baseline. For now, using channle CZ\n",
    "    \"\"\"\n",
    "    resting_cz = resting_cz.values.reshape((int(len(resting_cz) / (2 * fs)), 2 * fs))\n",
    "    # power list to store the power spectrum for each epoch\n",
    "    freq = []\n",
    "    powers = []\n",
    "    for epoch in resting_cz:\n",
    "        f, power = welch(epoch, nperseg=fs, noverlap=None)\n",
    "        freq = f\n",
    "        powers.append(power)\n",
    "    powers = np.asarray(powers)\n",
    "    # take the mean of power\n",
    "    mean_power = np.mean(powers, axis=0)\n",
    "    assert len(mean_power) == powers.shape[1]\n",
    "    # get correlations between each epoch power, and mean power\n",
    "    corrs = []\n",
    "    for power in powers:\n",
    "        corrs.append(corrcoef(power, mean_power)[0][1])\n",
    "    \n",
    "    print(co)"
   ]
  },
  {
   "cell_type": "code",
   "execution_count": 39,
   "metadata": {},
   "outputs": [
    {
     "name": "stdout",
     "output_type": "stream",
     "text": [
      "[[1.         0.93747131]\n",
      " [0.93747131 1.        ]]\n"
     ]
    }
   ],
   "source": [
    "baseline(rest_cz, fs)"
   ]
  },
  {
   "cell_type": "markdown",
   "metadata": {},
   "source": [
    "## Baseline calculation"
   ]
  },
  {
   "cell_type": "code",
   "execution_count": 5,
   "metadata": {},
   "outputs": [
    {
     "name": "stdout",
     "output_type": "stream",
     "text": [
      "32254097395.348415\n",
      "-1675167.1705874586\n"
     ]
    }
   ],
   "source": [
    "def correlation(rest, read):\n",
    "    # calculate baseline\n",
    "    rest = rest.values\n",
    "    rest = rest.reshape((int(len(rest) / fs), fs))\n",
    "    rest_epochs = []\n",
    "    for e in rest:\n",
    "        rest_epochs.append(np.mean(e))\n",
    "    # normalize\n",
    "#     rest_min = min(rest_epochs)\n",
    "#     rest_max = max(rest_epochs)\n",
    "#     for i in range(len(rest_epochs)):\n",
    "#         rest_epochs[i] = (rest_epochs[i] - rest_min) / (rest_max - rest_min)\n",
    "    \n",
    "    print(np.var(rest_epochs))\n",
    "    \n",
    "    base_value = np.mean(np.asarray([np.mean(i) for i in rest]))\n",
    "    print(base_value)\n",
    "    \n",
    "    \n",
    "correlation(rest_cz, None)"
   ]
  },
  {
   "cell_type": "code",
   "execution_count": null,
   "metadata": {},
   "outputs": [],
   "source": []
  },
  {
   "cell_type": "code",
   "execution_count": null,
   "metadata": {},
   "outputs": [],
   "source": []
  }
 ],
 "metadata": {
  "kernelspec": {
   "display_name": "Python 3",
   "language": "python",
   "name": "python3"
  },
  "language_info": {
   "codemirror_mode": {
    "name": "ipython",
    "version": 3
   },
   "file_extension": ".py",
   "mimetype": "text/x-python",
   "name": "python",
   "nbconvert_exporter": "python",
   "pygments_lexer": "ipython3",
   "version": "3.6.4"
  }
 },
 "nbformat": 4,
 "nbformat_minor": 2
}
