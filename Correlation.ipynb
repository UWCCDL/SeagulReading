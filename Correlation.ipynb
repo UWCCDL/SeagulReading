{
 "cells": [
  {
   "cell_type": "markdown",
   "metadata": {},
   "source": [
    "# Calculate correlation of resting & reading"
   ]
  },
  {
   "cell_type": "code",
   "execution_count": 3,
   "metadata": {},
   "outputs": [],
   "source": [
    "import pandas as pd\n",
    "import numpy as np\n",
    "from numpy import corrcoef\n",
    "from scipy.signal import butter, lfilter, welch, find_peaks_cwt\n",
    "import matplotlib.pyplot as plt"
   ]
  },
  {
   "cell_type": "markdown",
   "metadata": {},
   "source": [
    "## Preparation"
   ]
  },
  {
   "cell_type": "code",
   "execution_count": 4,
   "metadata": {},
   "outputs": [],
   "source": [
    "fs = 250"
   ]
  },
  {
   "cell_type": "code",
   "execution_count": 5,
   "metadata": {},
   "outputs": [],
   "source": [
    "def high_pass(low, high, df, order=4):\n",
    "    \"\"\"\n",
    "    Filter channel data with butterworth filter\n",
    "    \"\"\"\n",
    "    nyq = 0.5 * fs\n",
    "    b, a = butter(order, [low / nyq, high / nyq], btype='band')\n",
    "    # filtered dataframe\n",
    "    fil_df = pd.DataFrame(dtype=\"float64\")\n",
    "    for i, col in enumerate(df):\n",
    "        fil_df[df.columns[i]] = lfilter(b, a, df[col])\n",
    "    \n",
    "    return fil_df"
   ]
  },
  {
   "cell_type": "code",
   "execution_count": 6,
   "metadata": {},
   "outputs": [],
   "source": [
    "# try a file\n",
    "rest_df = pd.read_csv('Data/Resting/R600_RestingState.csv')\n",
    "read_df = pd.read_csv('Data/Reading/R600_ND.csv')\n",
    "\n",
    "# filter\n",
    "high = 40\n",
    "low = 0.5\n",
    "fil_rest = high_pass(low, high, rest_df)\n",
    "fil_read = high_pass(low, high, read_df)\n",
    "\n",
    "# take one channel\n",
    "rest_cz = rest_df.Cz\n",
    "read_cz = read_df.Cz\n",
    "# clip, start at 1000th data point as there seems to be a noise\n",
    "# make sure it contains integer number of epochs\n",
    "start = 750\n",
    "end = min(len(rest_cz), len(read_cz))\n",
    "end = end - (end % fs)\n",
    "read_cz = read_cz[start:end]\n",
    "rest_cz = rest_cz[start:end]\n",
    "assert read_cz.shape == rest_cz.shape"
   ]
  },
  {
   "cell_type": "markdown",
   "metadata": {},
   "source": [
    "## Baseline"
   ]
  },
  {
   "cell_type": "code",
   "execution_count": 7,
   "metadata": {},
   "outputs": [],
   "source": [
    "def baseline(resting_cz, fs):\n",
    "    \"\"\"\n",
    "    Using resting data to calculate baseline. For now, using channle CZ\n",
    "    \n",
    "    params:\n",
    "        resting_cz: Resting data from CZ with length divisible by 2 * fs\n",
    "        fs: sampling rate\n",
    "    \n",
    "    returns:\n",
    "        value of the baseline\n",
    "    \"\"\"\n",
    "    assert len(resting_cz) % (2 * fs) == 0\n",
    "    resting_cz = resting_cz.values.reshape((int(len(resting_cz) / (2 * fs)), 2 * fs))\n",
    "    # power list to store the power spectrum for each epoch\n",
    "    freq = []\n",
    "    powers = []\n",
    "    for epoch in resting_cz:\n",
    "        f, power = welch(epoch, nperseg=fs, noverlap=None)\n",
    "        freq = f\n",
    "        powers.append(power)\n",
    "    powers = np.asarray(powers)\n",
    "    # take the mean of power\n",
    "    mean_power = np.mean(powers, axis=0)\n",
    "    assert len(mean_power) == powers.shape[1]\n",
    "    # get correlations between each epoch power, and mean power\n",
    "    corrs = []\n",
    "    for power in powers:\n",
    "        corrs.append(corrcoef(power, mean_power)[0][1])\n",
    "    # baseline is the mean of correlations\n",
    "    return np.mean(corrs)"
   ]
  },
  {
   "cell_type": "code",
   "execution_count": 8,
   "metadata": {},
   "outputs": [],
   "source": [
    "b = baseline(rest_cz, fs)"
   ]
  },
  {
   "cell_type": "markdown",
   "metadata": {},
   "source": [
    "## reading comparison to baseline"
   ]
  },
  {
   "cell_type": "code",
   "execution_count": 9,
   "metadata": {},
   "outputs": [],
   "source": [
    "def correlation_rest_read(resting_cz, reading_cz, fs):\n",
    "    \"\"\"\n",
    "    Calculate correlation between resting and reading data. For now, using channel CZ\n",
    "    \n",
    "    params:\n",
    "        resting_cz: Resting data from CZ with length divisible by 2 * fs\n",
    "        reading_cz: Reading data from CZ with length same as resting\n",
    "        fs: sampling rate\n",
    "    \n",
    "    returns:\n",
    "        a list of correlation values between reading and resting\n",
    "    \"\"\"\n",
    "    assert len(resting_cz) % (2 * fs) == 0 and len(resting_cz) == len(reading_cz)\n",
    "    resting_cz = resting_cz.values.reshape((int(len(resting_cz) / (2 * fs)), 2 * fs))\n",
    "    reading_cz = reading_cz.values.reshape((int(len(reading_cz) / (2 * fs)), 2 * fs))\n",
    "    corrs = []\n",
    "    for ii, rest_epoch in enumerate(resting_cz):\n",
    "        _, rest_power = welch(rest_epoch, nperseg=fs, noverlap=None)\n",
    "        _, read_power = welch(reading_cz[ii], nperseg=fs, noverlap=None)\n",
    "        corrs.append(corrcoef(rest_power, read_power)[0][1])\n",
    "    \n",
    "    return corrs"
   ]
  },
  {
   "cell_type": "code",
   "execution_count": 28,
   "metadata": {},
   "outputs": [],
   "source": [
    "corrs = correlation_rest_read(rest_cz, read_cz, fs)"
   ]
  },
  {
   "cell_type": "markdown",
   "metadata": {},
   "source": [
    "## Peaks"
   ]
  },
  {
   "cell_type": "code",
   "execution_count": 71,
   "metadata": {},
   "outputs": [],
   "source": [
    "peaks = find_peaks_cwt(corrs, widths=np.arange(fs / 50, fs / 25))"
   ]
  },
  {
   "cell_type": "markdown",
   "metadata": {},
   "source": [
    "## Plot"
   ]
  },
  {
   "cell_type": "code",
   "execution_count": 72,
   "metadata": {},
   "outputs": [
    {
     "data": {
      "text/plain": [
       "<matplotlib.collections.PathCollection at 0x1c23bfc358>"
      ]
     },
     "execution_count": 72,
     "metadata": {},
     "output_type": "execute_result"
    },
    {
     "data": {
      "text/plain": [
       "<Figure size 432x288 with 0 Axes>"
      ]
     },
     "metadata": {},
     "output_type": "display_data"
    },
    {
     "data": {
      "image/png": "[encoded data removed]",
      "text/plain": [
       "<Figure size 720x360 with 1 Axes>"
      ]
     },
     "metadata": {},
     "output_type": "display_data"
    }
   ],
   "source": [
    "plt.clf()\n",
    "fig, ax = plt.subplots(nrows=1, ncols=1)\n",
    "fig.set_size_inches(10, 5)\n",
    "x = np.arange(len(corrs))\n",
    "ax.plot(x, corrs, \"black\")\n",
    "ax.set_xlabel(\"Epochs\")\n",
    "ax.set_ylabel(\"Correlation\")\n",
    "ax.axhline(b, color='red', ls='--')\n",
    "ax.scatter([i for i in peaks if corrs[i] > b], [corrs[i] for i in peaks if corrs[i] > b], color=\"red\")"
   ]
  },
  {
   "cell_type": "code",
   "execution_count": null,
   "metadata": {},
   "outputs": [],
   "source": []
  }
 ],
 "metadata": {
  "kernelspec": {
   "display_name": "Python 3",
   "language": "python",
   "name": "python3"
  },
  "language_info": {
   "codemirror_mode": {
    "name": "ipython",
    "version": 3
   },
   "file_extension": ".py",
   "mimetype": "text/x-python",
   "name": "python",
   "nbconvert_exporter": "python",
   "pygments_lexer": "ipython3",
   "version": "3.6.4"
  }
 },
 "nbformat": 4,
 "nbformat_minor": 2
}
